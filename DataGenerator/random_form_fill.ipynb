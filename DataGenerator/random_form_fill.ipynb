{
 "cells": [
  {
   "cell_type": "code",
   "execution_count": 23,
   "metadata": {},
   "outputs": [],
   "source": [
    "from random import randint\n",
    "from selenium import webdriver\n",
    "from selenium.webdriver.support.ui import WebDriverWait\n",
    "from selenium.webdriver.support import expected_conditions as EC\n",
    "from selenium.webdriver.common.by import By\n",
    "from typing import List, Dict"
   ]
  },
  {
   "cell_type": "code",
   "execution_count": null,
   "metadata": {},
   "outputs": [],
   "source": [
    "class GoogleFormFiller:\n",
    "    def __init__(self, base_url: str, entries: List[str], multi_choice_q:List[str], answers:Dict[str, List[str]], name_entry:str, email_entry:str):\n",
    "        self.base_url = base_url\n",
    "        self.entries = entries\n",
    "        self.multi_choice_q = multi_choice_q\n",
    "        self.answers = answers\n",
    "        self.name_entry = name_entry\n",
    "        self.email_entry = email_entry\n",
    "    def _random_name_from_file(self, file_path:str) -> str:\n",
    "        with open(file_path, \"r\") as file:\n",
    "            names = file.readlines()\n",
    "            return names[randint(0, len(names) - 1)].strip()\n",
    "    def _random_set_from_list(self, lst: list, n: int) -> list:\n",
    "        return [lst[randint(0, len(lst) - 1)] for i in range(n)]\n",
    "    def _random_answer(self, entry:str) -> str:\n",
    "        return self.answers[entry][randint(0, len(self.answers[entry]) - 1)]\n",
    "    def _append_url(self, entry:str, appendix:str) -> str:\n",
    "        return f\"&entry.{entry}={appendix}\"\n",
    "    def _prepare_email(self, name:str) -> str:\n",
    "        return f\"{name.lower().replace(' ', '.')}@gmail.com\"\n",
    "\n",
    "    def generate_url(self, first_name_file:str, last_name_file:str) -> str: \n",
    "        url = self.base_url\n",
    "        name = self._random_name_from_file(first_name_file) + \" \" + self._random_name_from_file(last_name_file)\n",
    "        for entry in self.entries: \n",
    "            if entry in self.multi_choice_q:\n",
    "                set_size = randint(1, len(self.answers[entry]))\n",
    "                answ = self._random_set_from_list(self.answers[entry],set_size)\n",
    "                for a in answ:\n",
    "                    url += self._append_url(entry, a)\n",
    "            elif entry == self.name_entry:\n",
    "                url += self._append_url(entry, name)\n",
    "            elif entry == self.email_entry:\n",
    "                url += self._append_url(entry, self._prepare_email(name))\n",
    "            else:\n",
    "                url += self._append_url(entry, self._random_answer(entry))\n",
    "\n",
    "        return url.replace(\" \", \"+\")\n",
    "\n",
    "    def send_filled(self, first_name_file:str, last_name_file:str, xpath:str = \"Prześlij\", num_of_req:int = 50):\n",
    "        urls = [self.generate_url(first_name_file, last_name_file) for i in range(num_of_req)]\n",
    "        driver = webdriver.Firefox()\n",
    "        for url in urls:\n",
    "            driver.get(url)\n",
    "            button = WebDriverWait(driver,10).until(EC.presence_of_element_located((By.XPATH, f'//div/span/span[text()=\"{xpath}\"]')))\n",
    "            button.click()\n",
    "        driver.close()"
   ]
  },
  {
   "cell_type": "code",
   "execution_count": 25,
   "metadata": {},
   "outputs": [],
   "source": [
    "    \n",
    "base_url = \"https://docs.google.com/forms/d/e/1FAIpQLScoJzoGy9gIiQ3nU-JDKS7XqnbMnETmY9F2oUYPA7u3NUZfpA/viewform?usp=pp_url\"\n",
    "\n",
    "entry_list = [\"2092238618\", \"215193630\", \"588393791\", \"1753222212\", \"572352119\"]\n",
    "\n",
    "multi_choice_questions = [\"588393791\"]\n",
    "\n",
    "possible_answers = {\n",
    "    \"1753222212\": [\"0 - 7 days\", \"7 - 14 days\", \"14 - 30 days\", \"longer than 30 days\"],\n",
    "    \"572352119\": [\"Yes\", \"No\"],\n",
    "    \"588393791\": [\"Churches\", \"Landmarks\",\"Monuments\",\"Castles\",\"Statues and sculptures\",\"Sports facilities\",\"Cinema\", \"Caves\", \"Museums\", \"Parks\", \"Theatres\", \"Zoos\"]\n",
    "}\n",
    "\n",
    "filler = GoogleFormFiller(base_url, entry_list, multi_choice_questions, possible_answers)\n",
    "\n",
    "filler.send_filled(\"names.txt\", \"surnames.txt\")\n"
   ]
  }
 ],
 "metadata": {
  "kernelspec": {
   "display_name": "obrazy",
   "language": "python",
   "name": "python3"
  },
  "language_info": {
   "codemirror_mode": {
    "name": "ipython",
    "version": 3
   },
   "file_extension": ".py",
   "mimetype": "text/x-python",
   "name": "python",
   "nbconvert_exporter": "python",
   "pygments_lexer": "ipython3",
   "version": "3.11.5"
  }
 },
 "nbformat": 4,
 "nbformat_minor": 2
}
