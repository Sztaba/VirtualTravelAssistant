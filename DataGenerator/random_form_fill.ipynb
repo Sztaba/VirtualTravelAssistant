{
 "cells": [
  {
   "cell_type": "code",
   "execution_count": 23,
   "metadata": {},
   "outputs": [],
   "source": [
    "from googleFormFiller import GoogleFormFiller"
   ]
  },
  {
   "cell_type": "code",
   "execution_count": 25,
   "metadata": {},
   "outputs": [],
   "source": [
    "    \n",
    "base_url = \"https://docs.google.com/forms/d/e/1FAIpQLScoJzoGy9gIiQ3nU-JDKS7XqnbMnETmY9F2oUYPA7u3NUZfpA/viewform?usp=pp_url\"\n",
    "\n",
    "entry_list = [\"2092238618\", \"215193630\", \"588393791\", \"1753222212\", \"572352119\"]\n",
    "\n",
    "multi_choice_questions = [\"588393791\"]\n",
    "\n",
    "possible_answers = {\n",
    "    \"1753222212\": [\"0 - 7 days\", \"7 - 14 days\", \"14 - 30 days\", \"longer than 30 days\"],\n",
    "    \"572352119\": [\"Yes\", \"No\"],\n",
    "    \"588393791\": [\"Churches\", \"Landmarks\",\"Monuments\",\"Castles\",\"Statues and sculptures\",\"Sports facilities\",\"Cinema\", \"Caves\", \"Museums\", \"Parks\", \"Theatres\", \"Zoos\"]\n",
    "}\n",
    "\n",
    "filler = GoogleFormFiller(base_url, entry_list, multi_choice_questions, possible_answers)\n",
    "\n",
    "filler.send_filled(\"names.txt\", \"surnames.txt\")\n"
   ]
  }
 ],
 "metadata": {
  "kernelspec": {
   "display_name": "obrazy",
   "language": "python",
   "name": "python3"
  },
  "language_info": {
   "codemirror_mode": {
    "name": "ipython",
    "version": 3
   },
   "file_extension": ".py",
   "mimetype": "text/x-python",
   "name": "python",
   "nbconvert_exporter": "python",
   "pygments_lexer": "ipython3",
   "version": "3.11.5"
  }
 },
 "nbformat": 4,
 "nbformat_minor": 2
}
